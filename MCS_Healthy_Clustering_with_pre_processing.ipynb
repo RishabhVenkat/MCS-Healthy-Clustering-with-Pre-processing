{
  "nbformat": 4,
  "nbformat_minor": 0,
  "metadata": {
    "colab": {
      "provenance": [],
      "gpuType": "T4",
      "authorship_tag": "ABX9TyMXaVFAprN3ROtjc7cEQnRs",
      "include_colab_link": true
    },
    "kernelspec": {
      "name": "python3",
      "display_name": "Python 3"
    },
    "language_info": {
      "name": "python"
    },
    "accelerator": "GPU"
  },
  "cells": [
    {
      "cell_type": "markdown",
      "metadata": {
        "id": "view-in-github",
        "colab_type": "text"
      },
      "source": [
        "<a href=\"https://colab.research.google.com/github/RishabhVenkat/MCS-Healthy-Clustering-with-Pre-processing/blob/main/MCS_Healthy_Clustering_with_pre_processing.ipynb\" target=\"_parent\"><img src=\"https://colab.research.google.com/assets/colab-badge.svg\" alt=\"Open In Colab\"/></a>"
      ]
    },
    {
      "cell_type": "code",
      "execution_count": 1,
      "metadata": {
        "id": "69xjwYgTmtqO"
      },
      "outputs": [],
      "source": [
        "import numpy as np\n",
        "import pandas as pd\n",
        "from scipy import stats\n",
        "\n",
        "# Load the CSV data into a pandas DataFrame\n",
        "df = pd.read_csv('/content/Combined_new.csv')\n"
      ]
    },
    {
      "cell_type": "code",
      "source": [
        "# Check for NaNs and Infs\n",
        "df.replace([np.inf, -np.inf], np.nan, inplace=True)\n",
        "df.dropna(inplace=True)  # Option 1: Drop rows with NaNs/Infs\n",
        "# Alternatively, you can fill NaNs with the mean or another value\n",
        "# df.fillna(df.mean(), inplace=True)\n",
        "\n",
        "# Assume the first column is time and the rest are EEG channels\n",
        "stage = df.iloc[:, 0].values\n",
        "Combined_new = df.iloc[:, 1:].values.T  # Transpose to shape (n_channels, n_samples)"
      ],
      "metadata": {
        "id": "Trt--0bFpH20"
      },
      "execution_count": 2,
      "outputs": []
    },
    {
      "cell_type": "code",
      "source": [
        "df.info()"
      ],
      "metadata": {
        "colab": {
          "base_uri": "https://localhost:8080/"
        },
        "id": "-PmlJweYnv8r",
        "outputId": "33413469-39c2-4be3-ad5b-c7fa72a3baf6"
      },
      "execution_count": 3,
      "outputs": [
        {
          "output_type": "stream",
          "name": "stdout",
          "text": [
            "<class 'pandas.core.frame.DataFrame'>\n",
            "Index: 24825 entries, 0 to 24924\n",
            "Data columns (total 27 columns):\n",
            " #   Column   Non-Null Count  Dtype  \n",
            "---  ------   --------------  -----  \n",
            " 0   Stage    24825 non-null  object \n",
            " 1   Fp1      24825 non-null  float64\n",
            " 2   Fpz      24825 non-null  float64\n",
            " 3   Fp2      24825 non-null  float64\n",
            " 4   F7       24825 non-null  float64\n",
            " 5   F3       24825 non-null  float64\n",
            " 6   Fz       24825 non-null  float64\n",
            " 7   F4       24825 non-null  float64\n",
            " 8   F8       24825 non-null  float64\n",
            " 9   T3       24825 non-null  float64\n",
            " 10  C3       24825 non-null  float64\n",
            " 11  Cz       24825 non-null  float64\n",
            " 12  C4       24825 non-null  float64\n",
            " 13  T4       24825 non-null  float64\n",
            " 14  T5       24825 non-null  float64\n",
            " 15  P3       24825 non-null  float64\n",
            " 16  Pz       24825 non-null  float64\n",
            " 17  P4       24825 non-null  float64\n",
            " 18  T6       24825 non-null  float64\n",
            " 19  O1       24825 non-null  float64\n",
            " 20  Oz       24825 non-null  float64\n",
            " 21  O2       24825 non-null  float64\n",
            " 22  VEOG     24825 non-null  float64\n",
            " 23  EMG      24825 non-null  float64\n",
            " 24  FCz      24825 non-null  float64\n",
            " 25  hEOG_bi  24825 non-null  float64\n",
            " 26  EMGbi    24825 non-null  float64\n",
            "dtypes: float64(26), object(1)\n",
            "memory usage: 5.3+ MB\n"
          ]
        }
      ]
    },
    {
      "cell_type": "code",
      "source": [
        "!pip install mne\n",
        "import mne\n",
        "\n",
        "# Create an MNE Info object\n",
        "sfreq = 1000  # Sample frequency in Hz (adjust based on your data)\n",
        "ch_names = df.columns[1:].tolist()\n",
        "info = mne.create_info(ch_names=ch_names, sfreq=sfreq, ch_types='eeg')\n",
        "\n",
        "# Create a RawArray object\n",
        "raw = mne.io.RawArray(Combined_new, info)"
      ],
      "metadata": {
        "colab": {
          "base_uri": "https://localhost:8080/"
        },
        "id": "pW6sP43ZrK_s",
        "outputId": "6a37aee1-a21a-499b-fa48-032667f7da86"
      },
      "execution_count": 4,
      "outputs": [
        {
          "output_type": "stream",
          "name": "stdout",
          "text": [
            "Collecting mne\n",
            "  Downloading mne-1.7.1-py3-none-any.whl (7.4 MB)\n",
            "\u001b[2K     \u001b[90m━━━━━━━━━━━━━━━━━━━━━━━━━━━━━━━━━━━━━━━━\u001b[0m \u001b[32m7.4/7.4 MB\u001b[0m \u001b[31m18.1 MB/s\u001b[0m eta \u001b[36m0:00:00\u001b[0m\n",
            "\u001b[?25hRequirement already satisfied: decorator in /usr/local/lib/python3.10/dist-packages (from mne) (4.4.2)\n",
            "Requirement already satisfied: jinja2 in /usr/local/lib/python3.10/dist-packages (from mne) (3.1.4)\n",
            "Requirement already satisfied: lazy-loader>=0.3 in /usr/local/lib/python3.10/dist-packages (from mne) (0.4)\n",
            "Requirement already satisfied: matplotlib>=3.5.0 in /usr/local/lib/python3.10/dist-packages (from mne) (3.7.1)\n",
            "Requirement already satisfied: numpy>=1.21.2 in /usr/local/lib/python3.10/dist-packages (from mne) (1.25.2)\n",
            "Requirement already satisfied: packaging in /usr/local/lib/python3.10/dist-packages (from mne) (24.1)\n",
            "Requirement already satisfied: pooch>=1.5 in /usr/local/lib/python3.10/dist-packages (from mne) (1.8.2)\n",
            "Requirement already satisfied: scipy>=1.7.1 in /usr/local/lib/python3.10/dist-packages (from mne) (1.11.4)\n",
            "Requirement already satisfied: tqdm in /usr/local/lib/python3.10/dist-packages (from mne) (4.66.4)\n",
            "Requirement already satisfied: contourpy>=1.0.1 in /usr/local/lib/python3.10/dist-packages (from matplotlib>=3.5.0->mne) (1.2.1)\n",
            "Requirement already satisfied: cycler>=0.10 in /usr/local/lib/python3.10/dist-packages (from matplotlib>=3.5.0->mne) (0.12.1)\n",
            "Requirement already satisfied: fonttools>=4.22.0 in /usr/local/lib/python3.10/dist-packages (from matplotlib>=3.5.0->mne) (4.53.0)\n",
            "Requirement already satisfied: kiwisolver>=1.0.1 in /usr/local/lib/python3.10/dist-packages (from matplotlib>=3.5.0->mne) (1.4.5)\n",
            "Requirement already satisfied: pillow>=6.2.0 in /usr/local/lib/python3.10/dist-packages (from matplotlib>=3.5.0->mne) (9.4.0)\n",
            "Requirement already satisfied: pyparsing>=2.3.1 in /usr/local/lib/python3.10/dist-packages (from matplotlib>=3.5.0->mne) (3.1.2)\n",
            "Requirement already satisfied: python-dateutil>=2.7 in /usr/local/lib/python3.10/dist-packages (from matplotlib>=3.5.0->mne) (2.8.2)\n",
            "Requirement already satisfied: platformdirs>=2.5.0 in /usr/local/lib/python3.10/dist-packages (from pooch>=1.5->mne) (4.2.2)\n",
            "Requirement already satisfied: requests>=2.19.0 in /usr/local/lib/python3.10/dist-packages (from pooch>=1.5->mne) (2.31.0)\n",
            "Requirement already satisfied: MarkupSafe>=2.0 in /usr/local/lib/python3.10/dist-packages (from jinja2->mne) (2.1.5)\n",
            "Requirement already satisfied: six>=1.5 in /usr/local/lib/python3.10/dist-packages (from python-dateutil>=2.7->matplotlib>=3.5.0->mne) (1.16.0)\n",
            "Requirement already satisfied: charset-normalizer<4,>=2 in /usr/local/lib/python3.10/dist-packages (from requests>=2.19.0->pooch>=1.5->mne) (3.3.2)\n",
            "Requirement already satisfied: idna<4,>=2.5 in /usr/local/lib/python3.10/dist-packages (from requests>=2.19.0->pooch>=1.5->mne) (3.7)\n",
            "Requirement already satisfied: urllib3<3,>=1.21.1 in /usr/local/lib/python3.10/dist-packages (from requests>=2.19.0->pooch>=1.5->mne) (2.0.7)\n",
            "Requirement already satisfied: certifi>=2017.4.17 in /usr/local/lib/python3.10/dist-packages (from requests>=2.19.0->pooch>=1.5->mne) (2024.6.2)\n",
            "Installing collected packages: mne\n",
            "Successfully installed mne-1.7.1\n",
            "Creating RawArray with float64 data, n_channels=26, n_times=24825\n",
            "    Range : 0 ... 24824 =      0.000 ...    24.824 secs\n",
            "Ready.\n"
          ]
        }
      ]
    },
    {
      "cell_type": "code",
      "source": [
        "# Identify EOG channels\n",
        "eog_channels = ['VEOG', 'hEOG_bi']\n",
        "for ch in eog_channels:\n",
        "    if ch in ch_names:\n",
        "        info['chs'][ch_names.index(ch)]['kind'] = mne.io.constants.FIFF.FIFFV_EOG_CH\n",
        "        info['chs'][ch_names.index(ch)]['ch_name'] = ch\n",
        "        info['ch_names'][ch_names.index(ch)] = ch"
      ],
      "metadata": {
        "id": "q7YHJ8rqqkC-"
      },
      "execution_count": 5,
      "outputs": []
    },
    {
      "cell_type": "code",
      "source": [
        "# Apply band-pass filter\n",
        "raw.filter(l_freq=0.5, h_freq=45)"
      ],
      "metadata": {
        "colab": {
          "base_uri": "https://localhost:8080/",
          "height": 592
        },
        "id": "Ij9b5IiOncWT",
        "outputId": "7a7cc231-8a97-4602-fa68-1939f0f326b8"
      },
      "execution_count": 6,
      "outputs": [
        {
          "output_type": "stream",
          "name": "stdout",
          "text": [
            "Filtering raw data in 1 contiguous segment\n",
            "Setting up band-pass filter from 0.5 - 45 Hz\n",
            "\n",
            "FIR filter parameters\n",
            "---------------------\n",
            "Designing a one-pass, zero-phase, non-causal bandpass filter:\n",
            "- Windowed time-domain design (firwin) method\n",
            "- Hamming window with 0.0194 passband ripple and 53 dB stopband attenuation\n",
            "- Lower passband edge: 0.50\n",
            "- Lower transition bandwidth: 0.50 Hz (-6 dB cutoff frequency: 0.25 Hz)\n",
            "- Upper passband edge: 45.00 Hz\n",
            "- Upper transition bandwidth: 11.25 Hz (-6 dB cutoff frequency: 50.62 Hz)\n",
            "- Filter length: 6601 samples (6.601 s)\n",
            "\n"
          ]
        },
        {
          "output_type": "stream",
          "name": "stderr",
          "text": [
            "[Parallel(n_jobs=1)]: Done  17 tasks      | elapsed:    0.1s\n"
          ]
        },
        {
          "output_type": "execute_result",
          "data": {
            "text/plain": [
              "<RawArray | 26 x 24825 (24.8 s), ~5.0 MB, data loaded>"
            ],
            "text/html": [
              "<details open>\n",
              "    <summary><strong>General</strong></summary>\n",
              "    <table class=\"table table-hover table-striped table-sm table-responsive small\">\n",
              "        <tr>\n",
              "            <th>Measurement date</th>\n",
              "            \n",
              "            <td>Unknown</td>\n",
              "            \n",
              "        </tr>\n",
              "        <tr>\n",
              "            <th>Experimenter</th>\n",
              "            \n",
              "            <td>Unknown</td>\n",
              "            \n",
              "        </tr>\n",
              "        <tr>\n",
              "            <th>Participant</th>\n",
              "            \n",
              "            <td>Unknown</td>\n",
              "            \n",
              "        </tr>\n",
              "    </table>\n",
              "    </details>\n",
              "    <details open>\n",
              "        <summary><strong>Channels</strong></summary>\n",
              "        <table class=\"table table-hover table-striped table-sm table-responsive small\">\n",
              "            <tr>\n",
              "                <th>Digitized points</th>\n",
              "                \n",
              "                <td>Not available</td>\n",
              "                \n",
              "            </tr>\n",
              "            <tr>\n",
              "                <th>Good channels</th>\n",
              "                <td>26 EEG</td>\n",
              "            </tr>\n",
              "            <tr>\n",
              "                <th>Bad channels</th>\n",
              "                <td>None</td>\n",
              "            </tr>\n",
              "            <tr>\n",
              "                <th>EOG channels</th>\n",
              "                <td>Not available</td>\n",
              "            </tr>\n",
              "            <tr>\n",
              "                <th>ECG channels</th>\n",
              "                <td>Not available</td>\n",
              "            </tr>\n",
              "        </table>\n",
              "        </details>\n",
              "        <details open>\n",
              "            <summary><strong>Data</strong></summary>\n",
              "            <table class=\"table table-hover table-striped table-sm table-responsive small\">\n",
              "                \n",
              "                <tr>\n",
              "                    <th>Sampling frequency</th>\n",
              "                    <td>1000.00 Hz</td>\n",
              "                </tr>\n",
              "                \n",
              "                \n",
              "                <tr>\n",
              "                    <th>Highpass</th>\n",
              "                    <td>0.50 Hz</td>\n",
              "                </tr>\n",
              "                \n",
              "                \n",
              "                <tr>\n",
              "                    <th>Lowpass</th>\n",
              "                    <td>45.00 Hz</td>\n",
              "                </tr>\n",
              "                \n",
              "                \n",
              "                \n",
              "                \n",
              "                <tr>\n",
              "                    <th>Duration</th>\n",
              "                    <td>00:00:25 (HH:MM:SS)</td>\n",
              "                </tr>\n",
              "                \n",
              "            </table>\n",
              "            </details>"
            ]
          },
          "metadata": {},
          "execution_count": 6
        }
      ]
    },
    {
      "cell_type": "code",
      "source": [
        "# Using ICA for artifact removal (e.g., eye blinks)\n",
        "ica = mne.preprocessing.ICA(n_components=20, random_state=97)\n",
        "ica.fit(raw)"
      ],
      "metadata": {
        "colab": {
          "base_uri": "https://localhost:8080/",
          "height": 273
        },
        "id": "pDALT9DHnnjc",
        "outputId": "e4b32674-d579-4173-c454-97e47258728d"
      },
      "execution_count": 7,
      "outputs": [
        {
          "output_type": "stream",
          "name": "stdout",
          "text": [
            "Fitting ICA to data using 26 channels (please be patient, this may take a while)\n",
            "Selecting by number: 20 components\n",
            "Fitting ICA took 1.1s.\n"
          ]
        },
        {
          "output_type": "execute_result",
          "data": {
            "text/plain": [
              "<ICA | raw data decomposition, method: fastica (fit in 30 iterations on 24825 samples), 20 ICA components (26 PCA components available), channel types: eeg, no sources marked for exclusion>"
            ],
            "text/html": [
              "<table class=\"table table-hover table-striped table-sm table-responsive small\">\n",
              "    <tr>\n",
              "        <th>Method</th>\n",
              "        <td>fastica</td>\n",
              "    </tr>\n",
              "    <tr>\n",
              "        <th>Fit parameters</th>\n",
              "        <td>algorithm=parallel<br />fun=logcosh<br />fun_args=None<br />max_iter=1000<br /></td>\n",
              "    </tr>\n",
              "    <tr>\n",
              "        <th>Fit</th>\n",
              "        <td>30 iterations on raw data (24825 samples)</td>\n",
              "    </tr>\n",
              "    \n",
              "    <tr>\n",
              "        <th>ICA components</th>\n",
              "        <td>20</td>\n",
              "    </tr>\n",
              "    <tr>\n",
              "        <th>Available PCA components</th>\n",
              "        <td>26</td>\n",
              "    </tr>\n",
              "    <tr>\n",
              "        <th>Channel types</th>\n",
              "        <td>eeg</td>\n",
              "    </tr>\n",
              "    <tr>\n",
              "        <th>ICA components marked for exclusion</th>\n",
              "        <td>&mdash;</td>\n",
              "    </tr>\n",
              "    \n",
              "</table>"
            ]
          },
          "metadata": {},
          "execution_count": 7
        }
      ]
    },
    {
      "cell_type": "code",
      "source": [
        "# Detecting bad components related to eye blinks\n",
        "eog_inds, eog_scores = ica.find_bads_eog(raw, ch_name=eog_channels)\n",
        "ica.exclude = eog_inds  # Mark bad components for exclusion"
      ],
      "metadata": {
        "colab": {
          "base_uri": "https://localhost:8080/"
        },
        "id": "CN3mMSt-o0AM",
        "outputId": "0edfc8e4-ff79-47f4-a010-d20097bf0177"
      },
      "execution_count": 8,
      "outputs": [
        {
          "output_type": "stream",
          "name": "stdout",
          "text": [
            "Using EOG channels: VEOG, hEOG_bi\n",
            "... filtering ICA sources\n",
            "Setting up band-pass filter from 1 - 10 Hz\n",
            "\n",
            "FIR filter parameters\n",
            "---------------------\n",
            "Designing a two-pass forward and reverse, zero-phase, non-causal bandpass filter:\n",
            "- Windowed frequency-domain design (firwin2) method\n",
            "- Hann window\n",
            "- Lower passband edge: 1.00\n",
            "- Lower transition bandwidth: 0.50 Hz (-12 dB cutoff frequency: 0.75 Hz)\n",
            "- Upper passband edge: 10.00 Hz\n",
            "- Upper transition bandwidth: 0.50 Hz (-12 dB cutoff frequency: 10.25 Hz)\n",
            "- Filter length: 10000 samples (10.000 s)\n",
            "\n",
            "... filtering target\n",
            "Setting up band-pass filter from 1 - 10 Hz\n",
            "\n",
            "FIR filter parameters\n",
            "---------------------\n",
            "Designing a two-pass forward and reverse, zero-phase, non-causal bandpass filter:\n",
            "- Windowed frequency-domain design (firwin2) method\n",
            "- Hann window\n",
            "- Lower passband edge: 1.00\n",
            "- Lower transition bandwidth: 0.50 Hz (-12 dB cutoff frequency: 0.75 Hz)\n",
            "- Upper passband edge: 10.00 Hz\n",
            "- Upper transition bandwidth: 0.50 Hz (-12 dB cutoff frequency: 10.25 Hz)\n",
            "- Filter length: 10000 samples (10.000 s)\n",
            "\n"
          ]
        },
        {
          "output_type": "stream",
          "name": "stderr",
          "text": [
            "[Parallel(n_jobs=1)]: Done  17 tasks      | elapsed:    0.1s\n"
          ]
        },
        {
          "output_type": "stream",
          "name": "stdout",
          "text": [
            "... filtering ICA sources\n",
            "Setting up band-pass filter from 1 - 10 Hz\n",
            "\n",
            "FIR filter parameters\n",
            "---------------------\n",
            "Designing a two-pass forward and reverse, zero-phase, non-causal bandpass filter:\n",
            "- Windowed frequency-domain design (firwin2) method\n",
            "- Hann window\n",
            "- Lower passband edge: 1.00\n",
            "- Lower transition bandwidth: 0.50 Hz (-12 dB cutoff frequency: 0.75 Hz)\n",
            "- Upper passband edge: 10.00 Hz\n",
            "- Upper transition bandwidth: 0.50 Hz (-12 dB cutoff frequency: 10.25 Hz)\n",
            "- Filter length: 10000 samples (10.000 s)\n",
            "\n",
            "... filtering target\n",
            "Setting up band-pass filter from 1 - 10 Hz\n",
            "\n",
            "FIR filter parameters\n",
            "---------------------\n",
            "Designing a two-pass forward and reverse, zero-phase, non-causal bandpass filter:\n",
            "- Windowed frequency-domain design (firwin2) method\n",
            "- Hann window\n",
            "- Lower passband edge: 1.00\n",
            "- Lower transition bandwidth: 0.50 Hz (-12 dB cutoff frequency: 0.75 Hz)\n",
            "- Upper passband edge: 10.00 Hz\n",
            "- Upper transition bandwidth: 0.50 Hz (-12 dB cutoff frequency: 10.25 Hz)\n",
            "- Filter length: 10000 samples (10.000 s)\n",
            "\n"
          ]
        },
        {
          "output_type": "stream",
          "name": "stderr",
          "text": [
            "[Parallel(n_jobs=1)]: Done  17 tasks      | elapsed:    0.1s\n"
          ]
        }
      ]
    },
    {
      "cell_type": "code",
      "source": [
        "# Applying ICA to remove artifacts\n",
        "raw_corrected = ica.apply(raw)"
      ],
      "metadata": {
        "colab": {
          "base_uri": "https://localhost:8080/"
        },
        "id": "4aJESxXWsGwi",
        "outputId": "f2c5da4e-7308-45a4-e3c6-25959b75b873"
      },
      "execution_count": 9,
      "outputs": [
        {
          "output_type": "stream",
          "name": "stdout",
          "text": [
            "Applying ICA to Raw instance\n",
            "    Transforming to ICA space (20 components)\n",
            "    Zeroing out 0 ICA components\n",
            "    Projecting back using 26 PCA components\n"
          ]
        }
      ]
    },
    {
      "cell_type": "code",
      "source": [
        "# Re-reference to common average\n",
        "raw_corrected.set_eeg_reference('average', projection=True)"
      ],
      "metadata": {
        "colab": {
          "base_uri": "https://localhost:8080/",
          "height": 422
        },
        "id": "xKeQB_kAsKoj",
        "outputId": "aa36ad39-a746-4e40-c747-b58bc57d83ce"
      },
      "execution_count": 10,
      "outputs": [
        {
          "output_type": "stream",
          "name": "stdout",
          "text": [
            "EEG channel type selected for re-referencing\n",
            "Adding average EEG reference projection.\n",
            "1 projection items deactivated\n",
            "Average reference projection was added, but has not been applied yet. Use the apply_proj method to apply it.\n"
          ]
        },
        {
          "output_type": "execute_result",
          "data": {
            "text/plain": [
              "<RawArray | 26 x 24825 (24.8 s), ~5.0 MB, data loaded>"
            ],
            "text/html": [
              "<details open>\n",
              "    <summary><strong>General</strong></summary>\n",
              "    <table class=\"table table-hover table-striped table-sm table-responsive small\">\n",
              "        <tr>\n",
              "            <th>Measurement date</th>\n",
              "            \n",
              "            <td>Unknown</td>\n",
              "            \n",
              "        </tr>\n",
              "        <tr>\n",
              "            <th>Experimenter</th>\n",
              "            \n",
              "            <td>Unknown</td>\n",
              "            \n",
              "        </tr>\n",
              "        <tr>\n",
              "            <th>Participant</th>\n",
              "            \n",
              "            <td>Unknown</td>\n",
              "            \n",
              "        </tr>\n",
              "    </table>\n",
              "    </details>\n",
              "    <details open>\n",
              "        <summary><strong>Channels</strong></summary>\n",
              "        <table class=\"table table-hover table-striped table-sm table-responsive small\">\n",
              "            <tr>\n",
              "                <th>Digitized points</th>\n",
              "                \n",
              "                <td>Not available</td>\n",
              "                \n",
              "            </tr>\n",
              "            <tr>\n",
              "                <th>Good channels</th>\n",
              "                <td>26 EEG</td>\n",
              "            </tr>\n",
              "            <tr>\n",
              "                <th>Bad channels</th>\n",
              "                <td>None</td>\n",
              "            </tr>\n",
              "            <tr>\n",
              "                <th>EOG channels</th>\n",
              "                <td>Not available</td>\n",
              "            </tr>\n",
              "            <tr>\n",
              "                <th>ECG channels</th>\n",
              "                <td>Not available</td>\n",
              "            </tr>\n",
              "        </table>\n",
              "        </details>\n",
              "        <details open>\n",
              "            <summary><strong>Data</strong></summary>\n",
              "            <table class=\"table table-hover table-striped table-sm table-responsive small\">\n",
              "                \n",
              "                <tr>\n",
              "                    <th>Sampling frequency</th>\n",
              "                    <td>1000.00 Hz</td>\n",
              "                </tr>\n",
              "                \n",
              "                \n",
              "                <tr>\n",
              "                    <th>Highpass</th>\n",
              "                    <td>0.50 Hz</td>\n",
              "                </tr>\n",
              "                \n",
              "                \n",
              "                <tr>\n",
              "                    <th>Lowpass</th>\n",
              "                    <td>45.00 Hz</td>\n",
              "                </tr>\n",
              "                \n",
              "                \n",
              "                <tr>\n",
              "                    <th>Projections</th>\n",
              "                    <td>Average EEG reference : off</td>\n",
              "                </tr>\n",
              "                \n",
              "                \n",
              "                \n",
              "                <tr>\n",
              "                    <th>Duration</th>\n",
              "                    <td>00:00:25 (HH:MM:SS)</td>\n",
              "                </tr>\n",
              "                \n",
              "            </table>\n",
              "            </details>"
            ]
          },
          "metadata": {},
          "execution_count": 10
        }
      ]
    },
    {
      "cell_type": "code",
      "source": [
        "# Create epochs with fixed length\n",
        "epochs = mne.make_fixed_length_epochs(raw_corrected, duration=5, overlap=1)"
      ],
      "metadata": {
        "colab": {
          "base_uri": "https://localhost:8080/"
        },
        "id": "vwAymMShsNgm",
        "outputId": "05a6cdd9-e64a-4272-b3c4-3793749a7fb8"
      },
      "execution_count": 11,
      "outputs": [
        {
          "output_type": "stream",
          "name": "stdout",
          "text": [
            "Not setting metadata\n",
            "5 matching events found\n",
            "No baseline correction applied\n",
            "Created an SSP operator (subspace dimension = 1)\n",
            "1 projection items activated\n"
          ]
        }
      ]
    },
    {
      "cell_type": "code",
      "source": [
        "# Convert epochs to NumPy array\n",
        "epochs_data = epochs.get_data()\n"
      ],
      "metadata": {
        "colab": {
          "base_uri": "https://localhost:8080/"
        },
        "id": "uafRPuFDsUBm",
        "outputId": "02999d56-f68a-4ba5-f131-01ed8ee94dec"
      },
      "execution_count": 12,
      "outputs": [
        {
          "output_type": "stream",
          "name": "stdout",
          "text": [
            "Using data from preloaded Raw for 5 events and 5000 original time points ...\n",
            "0 bad epochs dropped\n"
          ]
        }
      ]
    },
    {
      "cell_type": "code",
      "source": [
        "def concatenate_features(epoch):\n",
        "    mean = np.mean(epoch, axis=-1)\n",
        "    std = np.std(epoch, axis=-1)\n",
        "    ptp = np.ptp(epoch, axis=-1)\n",
        "    var = np.var(epoch, axis=-1)\n",
        "    minim = np.min(epoch, axis=-1)\n",
        "    maxim = np.max(epoch, axis=-1)\n",
        "    argminim = np.argmin(epoch, axis=-1)\n",
        "    argmaxim = np.argmax(epoch, axis=-1)\n",
        "    rms = np.sqrt(np.mean(epoch ** 2, axis=-1))\n",
        "    abs_diff_signal = np.sum(np.abs(np.diff(epoch, axis=-1)), axis=-1)\n",
        "    skewness = stats.skew(epoch, axis=-1)\n",
        "    kurtosis = stats.kurtosis(epoch, axis=-1)\n",
        "    entropy = -np.sum(epoch * np.log2(epoch + np.finfo(float).eps), axis=-1)\n",
        "\n",
        "    return np.concatenate((mean, std, ptp, var, minim, maxim, argminim,\n",
        "                           argmaxim, rms, abs_diff_signal, skewness, kurtosis, entropy), axis=-1)"
      ],
      "metadata": {
        "id": "do5C3TI5sXlk"
      },
      "execution_count": 13,
      "outputs": []
    },
    {
      "cell_type": "code",
      "source": [
        "features = [concatenate_features(epoch) for epoch in epochs_data]\n",
        "features_array = np.array(features)"
      ],
      "metadata": {
        "colab": {
          "base_uri": "https://localhost:8080/"
        },
        "id": "uiAWdvWQsa9S",
        "outputId": "7118d377-f8e2-4284-c4c5-333455249137"
      },
      "execution_count": 14,
      "outputs": [
        {
          "output_type": "stream",
          "name": "stderr",
          "text": [
            "<ipython-input-13-c126c80025c7>:14: RuntimeWarning: invalid value encountered in log2\n",
            "  entropy = -np.sum(epoch * np.log2(epoch + np.finfo(float).eps), axis=-1)\n"
          ]
        }
      ]
    },
    {
      "cell_type": "code",
      "source": [
        "from sklearn.impute import SimpleImputer\n",
        "import numpy as np\n",
        "import matplotlib.pyplot as plt\n",
        "from sklearn.decomposition import PCA\n",
        "from sklearn.cluster import KMeans"
      ],
      "metadata": {
        "id": "d3u59g6d9vUM"
      },
      "execution_count": 15,
      "outputs": []
    },
    {
      "cell_type": "code",
      "source": [
        "# Perform KMeans clustering\n",
        "from sklearn.cluster import KMeans"
      ],
      "metadata": {
        "id": "dpn_4o8HskFe"
      },
      "execution_count": 16,
      "outputs": []
    },
    {
      "cell_type": "code",
      "source": [
        "# Impute NaNs with the mean of each column\n",
        "imputer = SimpleImputer(strategy='mean')\n",
        "features_array_imputed = imputer.fit_transform(features_array)"
      ],
      "metadata": {
        "id": "3cjz7ZH_9ytQ"
      },
      "execution_count": 17,
      "outputs": []
    },
    {
      "cell_type": "code",
      "source": [
        "# Check the shape of the imputed features array\n",
        "print(\"Shape of imputed features array:\", features_array_imputed.shape)"
      ],
      "metadata": {
        "colab": {
          "base_uri": "https://localhost:8080/"
        },
        "id": "DR2moAQZ91Kz",
        "outputId": "3b00ea64-b018-45a8-f0dc-0c5b85313851"
      },
      "execution_count": 18,
      "outputs": [
        {
          "output_type": "stream",
          "name": "stdout",
          "text": [
            "Shape of imputed features array: (5, 312)\n"
          ]
        }
      ]
    },
    {
      "cell_type": "code",
      "source": [
        "# Perform KMeans clustering\n",
        "n_clusters = 2\n",
        "kmeans = KMeans(n_clusters=n_clusters, init='k-means++', random_state=0)\n",
        "Y = kmeans.fit_predict(features_array_imputed)\n",
        "\n",
        "# Plotting all the clusters and their Centroids\n",
        "\n",
        "# Apply PCA to reduce to 2D\n",
        "pca = PCA(n_components=2)\n",
        "X_pca = pca.fit_transform(features_array_imputed)\n",
        "centroids_pca = pca.transform(kmeans.cluster_centers_)\n",
        "\n",
        "# Plot the clusters in 2D\n",
        "plt.figure(figsize=(8, 8))\n",
        "colors = ['green', 'red']\n",
        "for i in range(n_clusters):\n",
        "    plt.scatter(X_pca[Y == i, 0], X_pca[Y == i, 1], s=50, c=colors[i % len(colors)], label=f'Cluster {i+1}')\n",
        "\n",
        "# Plot the centroids\n",
        "plt.scatter(centroids_pca[:, 0], centroids_pca[:, 1], s=200, c='cyan', label='Centroids', marker='X')\n",
        "\n",
        "plt.title('Clusters with Centroids')\n",
        "plt.xlabel('PCA Component 1')\n",
        "plt.ylabel('PCA Component 2')\n",
        "plt.legend()\n",
        "plt.show()\n"
      ],
      "metadata": {
        "colab": {
          "base_uri": "https://localhost:8080/",
          "height": 773
        },
        "id": "JYqtMwWq9c7h",
        "outputId": "1c0d56a1-3e77-4da2-84fa-4fd98c7409ae"
      },
      "execution_count": 19,
      "outputs": [
        {
          "output_type": "stream",
          "name": "stderr",
          "text": [
            "/usr/local/lib/python3.10/dist-packages/sklearn/cluster/_kmeans.py:870: FutureWarning: The default value of `n_init` will change from 10 to 'auto' in 1.4. Set the value of `n_init` explicitly to suppress the warning\n",
            "  warnings.warn(\n"
          ]
        },
        {
          "output_type": "display_data",
          "data": {
            "text/plain": [
              "<Figure size 800x800 with 1 Axes>"
            ],
            "image/png": "[encoded data removed]"
          },
          "metadata": {}
        }
      ]
    }
  ]
}